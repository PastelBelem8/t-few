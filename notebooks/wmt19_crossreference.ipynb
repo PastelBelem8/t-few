{
 "cells": [
  {
   "cell_type": "code",
   "execution_count": 1,
   "id": "aaa06cdf",
   "metadata": {},
   "outputs": [],
   "source": [
    "import pandas as pd\n",
    "import numpy as np\n",
    "\n",
    "import joblib\n",
    "import os"
   ]
  },
  {
   "cell_type": "markdown",
   "id": "f8719552",
   "metadata": {},
   "source": [
    "```python\n",
    "{\n",
    "    \"doc_id\": {\n",
    "        \"src\": \"This is the source text.\",\n",
    "        \"ref\": \"This is the reference translation.\",\n",
    "        \"better\": {\n",
    "            \"sys_name\": \"System name 1\",\n",
    "            \"sys\": \"This is system translation 1.\",\n",
    "            \"scores\": {} \n",
    "        },\n",
    "        \"worse\": {\n",
    "            \"sys_name\": \"System name 2\",\n",
    "            \"sys\": \"This is system translation 2.\",\n",
    "            \"scores\": {}\n",
    "        }\n",
    "    }\n",
    "}\n",
    "```"
   ]
  },
  {
   "cell_type": "code",
   "execution_count": 2,
   "id": "68a80539",
   "metadata": {},
   "outputs": [],
   "source": [
    "def flatten(dataset: dict) -> list:\n",
    "    flattened = []\n",
    "    \n",
    "    for doc_id, doc_data in dataset.items():\n",
    "        for system in (\"better\", \"worse\"):\n",
    "            data = {\n",
    "                \"src\": doc_data[\"src\"],\n",
    "                \"ref\": doc_data[\"ref\"],\n",
    "                \"mt\": doc_data[system][\"sys\"],\n",
    "                \"sys_name\": doc_data[system][\"sys_name\"],\n",
    "                # To facilitate tracing back to the BARTScore paper\n",
    "                \"bartscore_doc_id\": doc_id,\n",
    "            }\n",
    "            \n",
    "            flattened.append(data)\n",
    "    return flattened"
   ]
  },
  {
   "cell_type": "code",
   "execution_count": 12,
   "id": "077aabd8",
   "metadata": {},
   "outputs": [
    {
     "name": "stdout",
     "output_type": "stream",
     "text": [
      "Loaded 31070 examples for zh-en.\n",
      "Index(['src', 'ref', 'mt', 'sys_name'], dtype='object')\n",
      "Total len of df_darr after removing duplicates: 17278\n",
      "Total len of df_da: 20170\n",
      "Total len of df_da after removing duplicates: 18687\n",
      "17278\n"
     ]
    }
   ],
   "source": [
    "LANGUAGE_PAIR = \"zh-en\"\n",
    "# LANGUAGE_PAIR = \"de-en\"\n",
    "\n",
    "# Step 1. Load and create long-format version of DARR dataset \n",
    "filepath = f\"./data/machine_translation/{LANGUAGE_PAIR}/data.pkl\"\n",
    "data = joblib.load(filepath)\n",
    "print(f\"Loaded {len(data)} examples for {LANGUAGE_PAIR}.\")\n",
    "\n",
    "# Flatten the nest dict\n",
    "data = flatten(data)\n",
    "df_darr = pd.DataFrame(data)\n",
    "\n",
    "# Remove duplicates\n",
    "cols = df_darr.columns[:-1]\n",
    "print(cols)\n",
    "df_darr = df_darr[~df_darr[cols].duplicated()]\n",
    "print(\"Total len of df_darr after removing duplicates:\", len(df_darr))\n",
    "\n",
    "# Step 2. **Load DIRECT ASSESSMENT data**\n",
    "df_da = pd.read_csv(\"./data/machine_translation/2019-da.csv\")\n",
    "df_da = df_da[df_da[\"lp\"] == LANGUAGE_PAIR]\n",
    "print(\"Total len of df_da:\", len(df_da))\n",
    "\n",
    "# Average duplicate values for DA data\n",
    "duplicates_cols = [\"lp\", \"src\", \"mt\", \"ref\"]\n",
    "# Consider all duplicates (even first and last instances)\n",
    "duplicates_mask = df_da[duplicates_cols].duplicated(keep=False)\n",
    "duplicates = df_da[duplicates_mask].copy()\n",
    "duplicates_annotations = duplicates.groupby(duplicates_cols, as_index=False).count()[\"annotators\"]\n",
    "\n",
    "duplicates = duplicates.groupby(duplicates_cols, as_index=False).mean()\n",
    "duplicates[\"annotators\"] = duplicates_annotations\n",
    "\n",
    "df_da_non_dup = df_da[~duplicates_mask]\n",
    "df_da = pd.concat((df_da_non_dup, duplicates))\n",
    "print(\"Total len of df_da after removing duplicates:\", len(df_da))\n",
    "\n",
    "# Step 3. Merge them based on src, ref, and mt :) using left join to the DF_DARR\n",
    "df_darr_w_scores = df_darr.merge(df_da, on=[\"src\", \"ref\", \"mt\"], how=\"left\")\n",
    "assert len(df_darr) == len(df_darr_w_scores)\n",
    "print(len(df_darr_w_scores))\n",
    "df_darr_w_scores.to_csv(f\"./data/machine_translation/{LANGUAGE_PAIR}/data_darr_w_scores.csv\")\n",
    "\n",
    "assert len(df_darr_w_scores) == len(pd.read_csv(f\"./data/machine_translation/{LANGUAGE_PAIR}/data_darr_w_scores.csv\"))"
   ]
  },
  {
   "cell_type": "markdown",
   "id": "f4a4b4b1",
   "metadata": {},
   "source": [
    "### Sampling and data formatting\n",
    "\n",
    "1. scores_raw [0, 100] --> [0, 1]\n",
    "2. split by context\n",
    "3. create bins 2 classes and 5 classes\n",
    "\n"
   ]
  },
  {
   "cell_type": "code",
   "execution_count": 17,
   "id": "da9edd4a",
   "metadata": {},
   "outputs": [],
   "source": [
    "import matplotlib.pyplot as plt\n",
    "import seaborn as sns"
   ]
  },
  {
   "cell_type": "code",
   "execution_count": 23,
   "id": "0b6637bd",
   "metadata": {},
   "outputs": [],
   "source": [
    "def plot_distributions(data1, data2, label1=\"\", label2=\"\", figsize=(10, 4), **kwargs):\n",
    "    fig, axes = plt.subplots(1, 2, sharex=True, sharey=True, tight_layout=True, figsize=figsize)\n",
    "\n",
    "    hist_kwargs = {\"bins\": 10}\n",
    "    hist_kwargs.update(**kwargs)\n",
    "    sns.histplot(ax=axes[0], data=data1, **hist_kwargs)\n",
    "    sns.histplot(ax=axes[1], data=data2, **hist_kwargs)\n",
    "    axes[0].set_title(label1)\n",
    "    axes[1].set_title(label2)\n",
    "    \n",
    "def get_distribution(data, binrange, bins):\n",
    "    out, bins = pd.cut(binrange, bins, retbins=True)\n",
    "    \n",
    "    intervals = pd.cut(data, bins=bins)\n",
    "    return pd.DataFrame(intervals.value_counts() / len(data)).reset_index()\n",
    "\n",
    "\n",
    "def discretize_dist(data, col, binrange, bins):\n",
    "    data = data.copy()\n",
    "\n",
    "    out, bins = pd.cut(binrange, bins=bins, retbins=True) \n",
    "    intervals = pd.cut(data[col], bins=bins)\n",
    "    data[\"bin\"] = intervals\n",
    "    data[\"label\"] = intervals.cat.codes\n",
    "    \n",
    "    return data"
   ]
  },
  {
   "cell_type": "code",
   "execution_count": 19,
   "id": "a1ed4965",
   "metadata": {},
   "outputs": [],
   "source": [
    "from sklearn.model_selection import train_test_split"
   ]
  },
  {
   "cell_type": "code",
   "execution_count": 28,
   "id": "a3009f8f",
   "metadata": {},
   "outputs": [
    {
     "name": "stdout",
     "output_type": "stream",
     "text": [
      "30150\n",
      "Using SEED 42\n",
      "Len(train): 24162 \t|\tLen(test): 5988\n",
      "24162 5988\n",
      "           index  raw_score\n",
      "0     (0.5, 1.0]   0.852827\n",
      "1  (-0.001, 0.5]   0.147173\n",
      "           index  raw_score\n",
      "0     (0.5, 1.0]   0.859051\n",
      "1  (-0.001, 0.5]   0.140949\n",
      "24162 5988\n"
     ]
    },
    {
     "data": {
      "image/png": "[encoded data removed]",
      "text/plain": [
       "<Figure size 720x288 with 2 Axes>"
      ]
     },
     "metadata": {
      "needs_background": "light"
     },
     "output_type": "display_data"
    },
    {
     "data": {
      "image/png": "[encoded data removed]",
      "text/plain": [
       "<Figure size 720x288 with 2 Axes>"
      ]
     },
     "metadata": {
      "needs_background": "light"
     },
     "output_type": "display_data"
    },
    {
     "data": {
      "image/png": "[encoded data removed]",
      "text/plain": [
       "<Figure size 720x288 with 2 Axes>"
      ]
     },
     "metadata": {
      "needs_background": "light"
     },
     "output_type": "display_data"
    }
   ],
   "source": [
    "#LANGUAGE_PAIR = \"zh-en\"\n",
    "LANGUAGE_PAIR = \"de-en\"\n",
    "\n",
    "SEED = 42\n",
    "# SEED = 4649\n",
    "#SEED = 91238\n",
    "TEST_FRACTION = 0.20\n",
    "\n",
    "RAW_DATASET_DIR = f\"./data/machine_translation/{LANGUAGE_PAIR}\"\n",
    "df_darr_w_scores = pd.read_csv(f\"{RAW_DATASET_DIR}/data_darr_w_scores.csv\")\n",
    "print(len(df_darr_w_scores))\n",
    "OUTPUT_DATASET_DIR = f\"{RAW_DATASET_DIR}/split_{SEED}\"\n",
    "os.makedirs(OUTPUT_DATASET_DIR, exist_ok=True)\n",
    "\n",
    "binary_configs = {\"binrange\": (0, 1), \"bins\": 2}\n",
    "fivary_configs = {\"binrange\": (0, 1), \"bins\": 5}\n",
    "\n",
    "print(\"Using SEED\", SEED)\n",
    "\n",
    "# Scale to [0, 1]\n",
    "col = \"raw_score\"\n",
    "df_darr_w_scores[col] = df_darr_w_scores[col].apply(lambda ex: round(ex/100, 4))\n",
    "assert df_darr_w_scores[col].apply(lambda ex: 0<=ex<=1).all()\n",
    "\n",
    "# Train test split (by context)\n",
    "train_src, test_src = train_test_split(df_darr_w_scores[\"src\"].unique(), test_size=TEST_FRACTION, shuffle=True, random_state=SEED) \n",
    "train_df = df_darr_w_scores[df_darr_w_scores[\"src\"].isin(train_src)].reset_index()\n",
    "test_df = df_darr_w_scores[df_darr_w_scores[\"src\"].isin(test_src)].reset_index()\n",
    "print(\"Len(train):\", len(train_df), \"\\t|\\tLen(test):\", len(test_df))\n",
    "\n",
    "plot_distributions(train_df[col], test_df[col], \"train\", \"test\")\n",
    "# -----------------------------------------------------------\n",
    "# Discretize distributions\n",
    "# -----------------------------------------------------------\n",
    "# binary\n",
    "train_bin, test_bin = [discretize_dist(df, col, **binary_configs) for df in (train_df, test_df)]\n",
    "print(len(train_bin), len(test_bin))\n",
    "print(get_distribution(train_df[col], **binary_configs))\n",
    "print(get_distribution(test_df[col], **binary_configs))\n",
    "\n",
    "train_bin.to_csv(f\"{OUTPUT_DATASET_DIR}/2class_train.csv\", index=False)\n",
    "test_bin.to_csv(f\"{OUTPUT_DATASET_DIR}/2class_test.csv\", index=False)\n",
    "plot_distributions(train_df[col], test_df[col], \"train\", \"test\", **binary_configs)\n",
    "\n",
    "# 5-ary\n",
    "train_5ary, test_5ary = [discretize_dist(df, col, **fivary_configs) for df in (train_df, test_df)]\n",
    "print(len(train_5ary), len(test_5ary))\n",
    "\n",
    "train_5ary.to_csv(f\"{OUTPUT_DATASET_DIR}/5class_train.csv\", index=False)\n",
    "test_5ary.to_csv(f\"{OUTPUT_DATASET_DIR}/5class_test.csv\", index=False)\n",
    "plot_distributions(train_df[col], test_df[col], \"train\", \"test\", **fivary_configs)"
   ]
  },
  {
   "cell_type": "code",
   "execution_count": 26,
   "id": "e1f38cd9",
   "metadata": {},
   "outputs": [
    {
     "data": {
      "text/plain": [
       "1    5104\n",
       "0     907\n",
       "Name: label, dtype: int64"
      ]
     },
     "execution_count": 26,
     "metadata": {},
     "output_type": "execute_result"
    }
   ],
   "source": [
    "test_bin[\"label\"].value_counts()"
   ]
  },
  {
   "cell_type": "code",
   "execution_count": null,
   "id": "f06b9fe4",
   "metadata": {},
   "outputs": [],
   "source": [
    "sns.histplot(train_df[col], binrange=(0, 1), bins=10)"
   ]
  },
  {
   "cell_type": "code",
   "execution_count": null,
   "id": "fb3eabd7",
   "metadata": {},
   "outputs": [],
   "source": [
    "len(df_darr_w_scores[df_darr_w_scores[\"src\"].isin(test_src)])"
   ]
  },
  {
   "cell_type": "code",
   "execution_count": null,
   "id": "1288ead3",
   "metadata": {},
   "outputs": [],
   "source": [
    "len(train_src), len(test_src)"
   ]
  },
  {
   "cell_type": "code",
   "execution_count": null,
   "id": "d67b650f",
   "metadata": {},
   "outputs": [],
   "source": []
  },
  {
   "cell_type": "code",
   "execution_count": null,
   "id": "96d63657",
   "metadata": {},
   "outputs": [],
   "source": []
  },
  {
   "cell_type": "code",
   "execution_count": null,
   "id": "5566e517",
   "metadata": {},
   "outputs": [],
   "source": [
    "df_da = pd.read_csv(\"./data/machine_translation/2019-da.csv\")\n",
    "df_da.groupby([\"lp\", \"src\", \"ref\"]).groupby(\"mt\")"
   ]
  },
  {
   "cell_type": "code",
   "execution_count": null,
   "id": "d8dc49b0",
   "metadata": {},
   "outputs": [],
   "source": []
  }
 ],
 "metadata": {
  "kernelspec": {
   "display_name": "Python 3 (ipykernel)",
   "language": "python",
   "name": "python3"
  },
  "language_info": {
   "codemirror_mode": {
    "name": "ipython",
    "version": 3
   },
   "file_extension": ".py",
   "mimetype": "text/x-python",
   "name": "python",
   "nbconvert_exporter": "python",
   "pygments_lexer": "ipython3",
   "version": "3.8.13"
  },
  "toc": {
   "base_numbering": 1,
   "nav_menu": {},
   "number_sections": true,
   "sideBar": true,
   "skip_h1_title": true,
   "title_cell": "Table of Contents",
   "title_sidebar": "Contents",
   "toc_cell": false,
   "toc_position": {},
   "toc_section_display": true,
   "toc_window_display": false
  }
 },
 "nbformat": 4,
 "nbformat_minor": 5
}
